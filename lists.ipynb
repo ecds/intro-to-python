{
 "cells": [
  {
   "cell_type": "markdown",
   "metadata": {},
   "source": [
    "# Lists\n",
    "\n",
    "A list is a data type in Python that allows you to store multiple items in a single variable.\n",
    "\n",
    "A list is created using square brackets:"
   ]
  },
  {
   "cell_type": "code",
   "execution_count": 2,
   "metadata": {},
   "outputs": [],
   "source": [
    "empty_list = []\n",
    "desserts_list = ['pie', 'cake', 'ice cream', 'cookies']\n",
    "primes_list = [2, 3, 5, 7, 11]\n",
    "mixed_data_list = [5, 'cake', 4.7, 'cookies']"
   ]
  },
  {
   "cell_type": "markdown",
   "metadata": {},
   "source": [
    "You can use the len() function to count the number of items in a list:"
   ]
  },
  {
   "cell_type": "code",
   "execution_count": 3,
   "metadata": {},
   "outputs": [
    {
     "data": {
      "text/plain": [
       "4"
      ]
     },
     "execution_count": 3,
     "metadata": {},
     "output_type": "execute_result"
    }
   ],
   "source": [
    "len(desserts_list)"
   ]
  },
  {
   "cell_type": "markdown",
   "metadata": {},
   "source": [
    "## Adding new items to a list\n",
    "Lists are ordered. They have a defined order that will not change. If you add a new item to a list using the append() function, it will be added to the end of the list:"
   ]
  },
  {
   "cell_type": "code",
   "execution_count": 4,
   "metadata": {},
   "outputs": [
    {
     "name": "stdout",
     "output_type": "stream",
     "text": [
      "['pie', 'cake', 'ice cream', 'cookies', 'candy']\n"
     ]
    }
   ],
   "source": [
    "desserts_list.append('candy')\n",
    "print(desserts_list)"
   ]
  },
  {
   "cell_type": "markdown",
   "metadata": {},
   "source": [
    "You can combine lists using + or the extend() function:"
   ]
  },
  {
   "cell_type": "code",
   "execution_count": 6,
   "metadata": {},
   "outputs": [
    {
     "name": "stdout",
     "output_type": "stream",
     "text": [
      "['Matthew', 'Karla', 'Michele', 'David', 'Eddie', 'Annie']\n"
     ]
    }
   ],
   "source": [
    "group_1 = ['Matthew', 'Karla', 'Michele']\n",
    "group_2 = ['David', 'Eddie', 'Annie']\n",
    "combined_group = group_1 + group_2\n",
    "print(combined_group)"
   ]
  },
  {
   "cell_type": "code",
   "execution_count": 9,
   "metadata": {},
   "outputs": [
    {
     "name": "stdout",
     "output_type": "stream",
     "text": [
      "['chocolate', 'vanilla', 'mint', 'orange', 'pineapple']\n"
     ]
    }
   ],
   "source": [
    "flavors = ['chocolate', 'vanilla', 'mint']\n",
    "more_flavors = ['orange', 'pineapple']\n",
    "flavors.extend(more_flavors)\n",
    "print(flavors)"
   ]
  },
  {
   "cell_type": "markdown",
   "metadata": {},
   "source": [
    "## Indexing a list\n",
    "Lists items are indexed by numbers. **In Python indexing starts with 0.** So the first item in a list has an index value of 0 and the last item in the list has a value of n-1. \n",
    "\n",
    "You can access an item in list using square brackets around the index value:"
   ]
  },
  {
   "cell_type": "code",
   "execution_count": 10,
   "metadata": {},
   "outputs": [
    {
     "name": "stdout",
     "output_type": "stream",
     "text": [
      "John\n"
     ]
    }
   ],
   "source": [
    "beatles = ['John', 'Paul', 'George', 'Ringo']\n",
    "print(beatles[0]) # Print the first item in list."
   ]
  },
  {
   "cell_type": "code",
   "execution_count": 11,
   "metadata": {},
   "outputs": [
    {
     "name": "stdout",
     "output_type": "stream",
     "text": [
      "Ringo\n"
     ]
    }
   ],
   "source": [
    "print(beatles[3]) # Print the last (4th) item in the list."
   ]
  },
  {
   "cell_type": "markdown",
   "metadata": {},
   "source": [
    "Sometimes you want to access the last item in a list but you don't know how many items are in it. In that case, you can use a negative index value:"
   ]
  },
  {
   "cell_type": "code",
   "execution_count": 12,
   "metadata": {},
   "outputs": [
    {
     "name": "stdout",
     "output_type": "stream",
     "text": [
      "Ringo\n"
     ]
    }
   ],
   "source": [
    "print(beatles[-1]) # Print the last item in the list."
   ]
  },
  {
   "cell_type": "code",
   "execution_count": 13,
   "metadata": {},
   "outputs": [
    {
     "name": "stdout",
     "output_type": "stream",
     "text": [
      "George\n"
     ]
    }
   ],
   "source": [
    "print(beatles[-2]) # Print the second to the last item in the list."
   ]
  },
  {
   "cell_type": "markdown",
   "metadata": {},
   "source": [
    "You can also access a range of items in a list using index values. Notice that the range below prints the up to **but NOT including** the upper index value."
   ]
  },
  {
   "cell_type": "code",
   "execution_count": 18,
   "metadata": {},
   "outputs": [
    {
     "name": "stdout",
     "output_type": "stream",
     "text": [
      "['Paul', 'George']\n"
     ]
    }
   ],
   "source": [
    "print(beatles[1:3]) # Print the second and third items in the list"
   ]
  },
  {
   "cell_type": "markdown",
   "metadata": {},
   "source": [
    "If you leave out the start value, the range will return index values starting at 0 and up to but not including the index value listed:"
   ]
  },
  {
   "cell_type": "code",
   "execution_count": 17,
   "metadata": {},
   "outputs": [
    {
     "name": "stdout",
     "output_type": "stream",
     "text": [
      "['John', 'Paul']\n"
     ]
    }
   ],
   "source": [
    "print(beatles[:2]) # Print the first two items in the list."
   ]
  },
  {
   "cell_type": "markdown",
   "metadata": {},
   "source": [
    "## Changing values in a list\n",
    "Now that you know how to index a list, you can use this to change items in a list. Let's replace brussel sprouts with candy in the list below:"
   ]
  },
  {
   "cell_type": "code",
   "execution_count": 19,
   "metadata": {},
   "outputs": [
    {
     "name": "stdout",
     "output_type": "stream",
     "text": [
      "['cake', 'ice cream', 'candy', 'cookies']\n"
     ]
    }
   ],
   "source": [
    "desserts = ['cake', 'ice cream', 'brussel sprouts', 'cookies']\n",
    "desserts[2] = 'candy'\n",
    "print(desserts)"
   ]
  },
  {
   "cell_type": "markdown",
   "metadata": {},
   "source": [
    "You can also replace a range of items:"
   ]
  },
  {
   "cell_type": "code",
   "execution_count": 20,
   "metadata": {},
   "outputs": [
    {
     "name": "stdout",
     "output_type": "stream",
     "text": [
      "['cake', 'ice cream', 'lollipops', 'pudding', 'sorbet', 'pie']\n"
     ]
    }
   ],
   "source": [
    "desserts = ['cake', 'ice cream', 'brussel sprouts', 'asparagus', 'grean beans', 'pie']\n",
    "# Let's swap out all the vegetables for sweets\n",
    "desserts[2:5] = ['lollipops', 'pudding', 'sorbet']\n",
    "print(desserts)"
   ]
  },
  {
   "cell_type": "markdown",
   "metadata": {},
   "source": [
    "Suppose we want to insert butterscotch at the second position in our list, between cake and ice cream. We can use the insert function to do this using an index value of 1 (remember we start counting at zero!). "
   ]
  },
  {
   "cell_type": "code",
   "execution_count": 21,
   "metadata": {},
   "outputs": [
    {
     "name": "stdout",
     "output_type": "stream",
     "text": [
      "['cake', 'butterscotch', 'ice cream', 'lollipops', 'pudding', 'sorbet', 'pie']\n"
     ]
    }
   ],
   "source": [
    "desserts = ['cake', 'ice cream', 'lollipops', 'pudding', 'sorbet', 'pie']\n",
    "desserts.insert(1, 'butterscotch')\n",
    "print(desserts)"
   ]
  },
  {
   "cell_type": "markdown",
   "metadata": {},
   "source": [
    "## Removing items from a list\n",
    "The simplest way to remove an item from a list is to provide its value to the remove() function like so:"
   ]
  },
  {
   "cell_type": "code",
   "execution_count": 22,
   "metadata": {},
   "outputs": [
    {
     "name": "stdout",
     "output_type": "stream",
     "text": [
      "['butterscotch', 'ice cream', 'lollipops', 'pudding', 'sorbet', 'pie']\n"
     ]
    }
   ],
   "source": [
    "desserts = ['cake', 'butterscotch', 'ice cream', 'lollipops', 'pudding', 'sorbet', 'pie']\n",
    "desserts.remove('cake')\n",
    "print(desserts)"
   ]
  },
  {
   "cell_type": "markdown",
   "metadata": {},
   "source": [
    "You can also use the pop() function to remove an item based on its index value:"
   ]
  },
  {
   "cell_type": "code",
   "execution_count": 23,
   "metadata": {},
   "outputs": [
    {
     "name": "stdout",
     "output_type": "stream",
     "text": [
      "['cake', 'butterscotch', 'ice cream', 'lollipops', 'pudding', 'pie']\n"
     ]
    }
   ],
   "source": [
    "desserts = ['cake', 'butterscotch', 'ice cream', 'lollipops', 'pudding', 'sorbet', 'pie']\n",
    "desserts.pop(-2) # Remove sorbet\n",
    "print(desserts)"
   ]
  },
  {
   "cell_type": "markdown",
   "metadata": {},
   "source": [
    "If you don't provide pop() a value, it remove the last item in a list:"
   ]
  },
  {
   "cell_type": "code",
   "execution_count": null,
   "metadata": {},
   "outputs": [],
   "source": [
    "desserts = ['cake', 'butterscotch', 'ice cream', 'lollipops', 'pudding', 'sorbet', 'pie']\n",
    "desserts.pop() # Remove pie\n",
    "print(desserts)"
   ]
  },
  {
   "cell_type": "markdown",
   "metadata": {},
   "source": [
    "Alternatively, you can use the keyword del to remove an item:"
   ]
  },
  {
   "cell_type": "code",
   "execution_count": 24,
   "metadata": {},
   "outputs": [
    {
     "name": "stdout",
     "output_type": "stream",
     "text": [
      "['cake', 'ice cream', 'lollipops', 'pudding', 'sorbet', 'pie']\n"
     ]
    }
   ],
   "source": [
    "desserts = ['cake', 'butterscotch', 'ice cream', 'lollipops', 'pudding', 'sorbet', 'pie']\n",
    "del desserts[1] # Remove butterscotch\n",
    "print(desserts)"
   ]
  },
  {
   "cell_type": "markdown",
   "metadata": {},
   "source": [
    "## Looping through a list\n",
    "It is very common in Python to want to loop through a list of items and do something to each one. There are a number of ways to do this. The simplest is perhaps using a for loop:"
   ]
  },
  {
   "cell_type": "code",
   "execution_count": 25,
   "metadata": {},
   "outputs": [
    {
     "name": "stdout",
     "output_type": "stream",
     "text": [
      "I love cake!\n",
      "I love butterscotch!\n",
      "I love ice cream!\n",
      "I love lollipops!\n",
      "I love pudding!\n",
      "I love sorbet!\n",
      "I love pie!\n"
     ]
    }
   ],
   "source": [
    "desserts = ['cake', 'butterscotch', 'ice cream', 'lollipops', 'pudding', 'sorbet', 'pie']\n",
    "for dessert in desserts:\n",
    "    print('I love ' + dessert + '!')"
   ]
  },
  {
   "cell_type": "markdown",
   "metadata": {},
   "source": [
    "Notice in the above example that we use \"dessert\" as a placeholder variable when looping through the items in the list. Python doesn't understand English grammar so we don't have to use the singular version of desserts. We could use anything we want as a placeholder variable in a for loop. For example we could have written `for x in desserts`. But using `for dessert in desserts` is closer to natural language and is therefore a common convention.\n",
    "\n",
    "Also note that the print statement is indented. When writing a for loop, all the code that does things to the placeholder variable should be indented. This lets Python know that you're still working within the loop.\n",
    "\n",
    "We can also loop through a list using the range() function and the len() function to refer to items by their index number:"
   ]
  },
  {
   "cell_type": "code",
   "execution_count": 26,
   "metadata": {},
   "outputs": [
    {
     "name": "stdout",
     "output_type": "stream",
     "text": [
      "c\n",
      "b\n",
      "i\n",
      "l\n",
      "p\n",
      "s\n",
      "p\n"
     ]
    }
   ],
   "source": [
    "desserts = ['cake', 'butterscotch', 'ice cream', 'lollipops', 'pudding', 'sorbet', 'pie']\n",
    "# Print the first letter of each dessert\n",
    "for i in range(len(desserts)):\n",
    "    print(desserts[i][0])"
   ]
  },
  {
   "cell_type": "markdown",
   "metadata": {},
   "source": [
    "Let's summarize what just happened. We used \"i\" as a placeholder variable to loop through the range of index values in the list. The len() function finds the total number of items and the range function creates a range from 0 up to but not including the number of items in the list. So with a list of seven items, this will index from index number 0 through the index number 6. In essence, we're looping through every item in the list. Then we print the item by referring to it with the index number `[i]` and access the first letter by indexing the string itself with `[0]`. \n",
    "\n",
    "Another way to loop thorugh the items is using a **list comprehension**, sometimes referred to as Pythonic loop. It looks like this:"
   ]
  },
  {
   "cell_type": "code",
   "execution_count": 27,
   "metadata": {},
   "outputs": [
    {
     "name": "stdout",
     "output_type": "stream",
     "text": [
      "[4, 12, 9, 9, 7, 6, 3]\n"
     ]
    }
   ],
   "source": [
    "desserts = ['cake', 'butterscotch', 'ice cream', 'lollipops', 'pudding', 'sorbet', 'pie']\n",
    "# Make a list of the number of characters in each dessert\n",
    "dessert_lengths = [len(x) for x in desserts]\n",
    "print(dessert_lengths)"
   ]
  },
  {
   "cell_type": "markdown",
   "metadata": {},
   "source": [
    "This time we used `x` as a placeholder variable. We created a new list `dessert_lengths` to store the data. We filled it up by iterating over each dessert `x` and capturing its length using the len() function. List comprehensions are a compact syntax for doing something to each item in a list. "
   ]
  },
  {
   "cell_type": "markdown",
   "metadata": {},
   "source": [
    "## Lists and Conditional Statements\n",
    "It's very common in Python to apply conditional statements to items in a loop. Let's start with an example in which we print out one statement if the dessert is more than six characters and a different statement if it is less than six characters:"
   ]
  },
  {
   "cell_type": "code",
   "execution_count": 28,
   "metadata": {},
   "outputs": [
    {
     "name": "stdout",
     "output_type": "stream",
     "text": [
      "Yuck, I do not like cake.\n",
      "Yum, I love butterscotch!\n",
      "Yum, I love ice cream!\n",
      "Yum, I love lollipops!\n",
      "Yum, I love pudding!\n",
      "Yuck, I do not like sorbet.\n",
      "Yuck, I do not like pie.\n"
     ]
    }
   ],
   "source": [
    "desserts = ['cake', 'butterscotch', 'ice cream', 'lollipops', 'pudding', 'sorbet', 'pie']\n",
    "for dessert in desserts:\n",
    "    if len(dessert) > 6:\n",
    "        print('Yum, I love ' + dessert + '!')\n",
    "    else:\n",
    "        print('Yuck, I do not like ' + dessert + '.')"
   ]
  },
  {
   "cell_type": "markdown",
   "metadata": {},
   "source": [
    "Notice the indentation in the above example. The if/else block is indented within the for loop. Also, the print statements are indented from within the if/else block. For each dessert in the list, the code checks if the length is greater than 6. If it is, the first print statement gets executed. If not, the second print statement gets executed. This is a simple example of what is called **flow control**. \n",
    "\n",
    "Sometimes you want to skip over items that do not meet a condition. You can use the keyword **pass** to do this. Let's repeat the last example except this time we will not print anything if the item is less than six characters:"
   ]
  },
  {
   "cell_type": "code",
   "execution_count": 29,
   "metadata": {},
   "outputs": [
    {
     "name": "stdout",
     "output_type": "stream",
     "text": [
      "Yum, I love butterscotch!\n",
      "Yum, I love ice cream!\n",
      "Yum, I love lollipops!\n",
      "Yum, I love pudding!\n"
     ]
    }
   ],
   "source": [
    "desserts = ['cake', 'butterscotch', 'ice cream', 'lollipops', 'pudding', 'sorbet', 'pie']\n",
    "for dessert in desserts:\n",
    "    if len(dessert) > 6:\n",
    "        print('Yum, I love ' + dessert + '!')\n",
    "    else:\n",
    "        pass"
   ]
  },
  {
   "cell_type": "markdown",
   "metadata": {},
   "source": [
    "In addition to `if` and `else`, there is also `elif` which is short for \"else if\". You use it to evaluated conditions after an initial `if` statement but before a final `else` statement. For example:"
   ]
  },
  {
   "cell_type": "code",
   "execution_count": 30,
   "metadata": {},
   "outputs": [
    {
     "name": "stdout",
     "output_type": "stream",
     "text": [
      "Yum, I love butterscotch!\n",
      "Yum, I love ice cream!\n",
      "Yum, I love lollipops!\n",
      "Yum, I love pudding!\n",
      "Nice, I sort of like sorbet.\n"
     ]
    }
   ],
   "source": [
    "desserts = ['cake', 'butterscotch', 'ice cream', 'lollipops', 'pudding', 'sorbet', 'pie']\n",
    "for dessert in desserts:\n",
    "    if len(dessert) > 6:\n",
    "        print('Yum, I love ' + dessert + '!')\n",
    "    elif len(dessert) > 4:\n",
    "        print('Nice, I sort of like ' + dessert + '.')\n",
    "    else:\n",
    "        pass"
   ]
  },
  {
   "cell_type": "markdown",
   "metadata": {},
   "source": [
    "Notice that sorbet is the only dessert to which the print statement in the `elif` block was applied. That's because it's not greater than 6 but it is greater than 4 so it caused the second print statement to execute.\n",
    "\n",
    "You can also use conditional statements on list comprehensions:"
   ]
  },
  {
   "cell_type": "code",
   "execution_count": 31,
   "metadata": {},
   "outputs": [
    {
     "name": "stdout",
     "output_type": "stream",
     "text": [
      "Yum, I love butterscotch!\n",
      "Yum, I love ice cream!\n",
      "Yum, I love lollipops!\n",
      "Yum, I love pudding!\n"
     ]
    }
   ],
   "source": [
    "desserts = ['cake', 'butterscotch', 'ice cream', 'lollipops', 'pudding', 'sorbet', 'pie']\n",
    "yummy_desserts = [x for x in desserts if len(x) > 6]\n",
    "for dessert in yummy_desserts:\n",
    "    print('Yum, I love ' + dessert + '!')"
   ]
  },
  {
   "cell_type": "code",
   "execution_count": null,
   "metadata": {},
   "outputs": [],
   "source": []
  }
 ],
 "metadata": {
  "kernelspec": {
   "display_name": "Python 3",
   "language": "python",
   "name": "python3"
  },
  "language_info": {
   "codemirror_mode": {
    "name": "ipython",
    "version": 3
   },
   "file_extension": ".py",
   "mimetype": "text/x-python",
   "name": "python",
   "nbconvert_exporter": "python",
   "pygments_lexer": "ipython3",
   "version": "3.7.4"
  }
 },
 "nbformat": 4,
 "nbformat_minor": 2
}
