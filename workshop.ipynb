{
 "cells": [
  {
   "cell_type": "markdown",
   "metadata": {},
   "source": [
    "# Sample Script\n",
    "This sample script harvests a spreadsheet of data and generates a report. This notebook is designed to introduce Python coding concepts to better understand the following code."
   ]
  },
  {
   "cell_type": "code",
   "execution_count": null,
   "metadata": {},
   "outputs": [],
   "source": [
    "'''\n",
    "Generate an alphabatized report of artists names and the alphabatized tags associated with their works.\n",
    "For example, an artist with three tags should be formatted as follows:\n",
    "ARTIST: TAG1, TAG2, TAG3\n",
    "If an artists has no tags associated with their works, omit them from the report.\n",
    "'''\n",
    "\n",
    "import pandas as pd\n",
    "import numpy as np\n",
    "\n",
    "url = 'https://raw.githubusercontent.com/ecds/intro-to-python/main/MetObjects1000.csv'\n",
    "\n",
    "data = pd.read_csv(url)\n",
    "data = data.replace(np.nan, '', regex=True)\n",
    "data = data.astype(str)\n",
    "\n",
    "artist_dict = {}\n",
    "for index, row in data.iterrows():\n",
    "    artists = row['Artist Display Name']\n",
    "    tags = row['Tags']\n",
    "\n",
    "    artists = artists.split('|')\n",
    "    tags = tags.split('|')\n",
    "\n",
    "    for artist in artists:\n",
    "        if artist not in artist_dict.keys():\n",
    "            artist_dict[artist] = tags\n",
    "        else:\n",
    "            artist_dict[artist].extend(tags)\n",
    "\n",
    "for artist in sorted(artist_dict.keys()):\n",
    "    if artist != '':\n",
    "        tags = [x for x in artist_dict[artist] if x != '']\n",
    "        tags = list(set(tags))\n",
    "        tags.sort()\n",
    "        if len(tags) > 0:\n",
    "            print(artist + ': ' + ', '.join(tags))"
   ]
  },
  {
   "cell_type": "markdown",
   "metadata": {},
   "source": [
    "# Python Basics\n",
    "The print statement. The print function print() prints the specified message to the screen or device.\n",
    "You can print a string, or another object which will be converted to a string."
   ]
  },
  {
   "cell_type": "code",
   "execution_count": null,
   "metadata": {},
   "outputs": [],
   "source": [
    "print(\"Hello World!\")"
   ]
  },
  {
   "cell_type": "markdown",
   "metadata": {},
   "source": [
    "You can print multiple objects, and you can specify the separator."
   ]
  },
  {
   "cell_type": "code",
   "execution_count": null,
   "metadata": {},
   "outputs": [],
   "source": [
    "x = \"Hello\"\n",
    "y = \"world!\"\n",
    "print(x, y, sep=\" \")"
   ]
  },
  {
   "cell_type": "markdown",
   "metadata": {},
   "source": [
    "Syntax - You MUST indent correct or you will get a syntax error in Python. Indentation is used to determine scope."
   ]
  },
  {
   "cell_type": "code",
   "execution_count": null,
   "metadata": {},
   "outputs": [],
   "source": [
    "if 5 > 2:\n",
    "  print(\"Five is greater than two!\")"
   ]
  },
  {
   "cell_type": "markdown",
   "metadata": {},
   "source": [
    "Let's try it without a space. You get an error!"
   ]
  },
  {
   "cell_type": "code",
   "execution_count": null,
   "metadata": {},
   "outputs": [],
   "source": [
    "if 5 > 2:\n",
    "print(\"Five is greater than two!\")"
   ]
  },
  {
   "cell_type": "markdown",
   "metadata": {},
   "source": [
    "You can pick the number of spaces (1-4 are common), but you have to be consistent throughout your code or you will get an error."
   ]
  },
  {
   "cell_type": "code",
   "execution_count": null,
   "metadata": {},
   "outputs": [],
   "source": [
    "desserts = ['cake', 'butterscotch', 'ice cream', 'lollipops', 'pudding', 'sorbet', 'pie']\n",
    "for dessert in desserts:\n",
    "  if len(dessert) > 6:\n",
    "      print('Yum, I love ' + dessert + '!')\n",
    "  else:\n",
    "      pass"
   ]
  },
  {
   "cell_type": "code",
   "execution_count": null,
   "metadata": {},
   "outputs": [],
   "source": [
    "desserts = ['cake', 'butterscotch', 'ice cream', 'lollipops', 'pudding', 'sorbet', 'pie']\n",
    "for dessert in desserts:\n",
    "  if len(dessert) > 6:\n",
    "    print('Yum, I love ' + dessert + '!')\n",
    "  else:\n",
    "    pass"
   ]
  },
  {
   "cell_type": "markdown",
   "metadata": {},
   "source": [
    "## Declaring variables"
   ]
  },
  {
   "cell_type": "code",
   "execution_count": null,
   "metadata": {},
   "outputs": [],
   "source": [
    "string_example = 'I am a string variable'\n",
    "print(sting_example)"
   ]
  },
  {
   "cell_type": "code",
   "execution_count": null,
   "metadata": {},
   "outputs": [],
   "source": [
    "number_example = 5\n",
    "print(number_example)"
   ]
  },
  {
   "cell_type": "markdown",
   "metadata": {},
   "source": [
    "Keep in mind because there is no declaring variable command, you can overwrite a variable easily."
   ]
  },
  {
   "cell_type": "code",
   "execution_count": null,
   "metadata": {},
   "outputs": [],
   "source": [
    "print(string_example)"
   ]
  },
  {
   "cell_type": "code",
   "execution_count": null,
   "metadata": {},
   "outputs": [],
   "source": [
    "string_example = \"I am an exciting new string!\"\n",
    "print(string_example)"
   ]
  },
  {
   "cell_type": "markdown",
   "metadata": {},
   "source": [
    "## Data types\n",
    "Some main data types in python are:\n",
    "int (integer), float (floating-point number), str (string)\n",
    "numeric types like integer and float:"
   ]
  },
  {
   "cell_type": "code",
   "execution_count": null,
   "metadata": {},
   "outputs": [],
   "source": [
    "number1 = 3.333\n",
    "type(number1)"
   ]
  },
  {
   "cell_type": "markdown",
   "metadata": {},
   "source": [
    "also a float"
   ]
  },
  {
   "cell_type": "code",
   "execution_count": null,
   "metadata": {},
   "outputs": [],
   "source": [
    "floatnumber = 35e3"
   ]
  },
  {
   "cell_type": "code",
   "execution_count": null,
   "metadata": {},
   "outputs": [],
   "source": [
    "number2 = 3\n",
    "type(number2)"
   ]
  },
  {
   "cell_type": "code",
   "execution_count": null,
   "metadata": {},
   "outputs": [],
   "source": [
    "number1 + number2"
   ]
  },
  {
   "cell_type": "code",
   "execution_count": null,
   "metadata": {},
   "outputs": [],
   "source": [
    "number3 = number1 + number2\n",
    "type(number3)"
   ]
  },
  {
   "cell_type": "markdown",
   "metadata": {},
   "source": [
    "strings:"
   ]
  },
  {
   "cell_type": "code",
   "execution_count": null,
   "metadata": {},
   "outputs": [],
   "source": [
    "string1 = \"Hello. How are you? \"\n",
    "type(string1)"
   ]
  },
  {
   "cell_type": "markdown",
   "metadata": {},
   "source": [
    "for multi-line strings use three quotes \"\"\" or '''"
   ]
  },
  {
   "cell_type": "code",
   "execution_count": null,
   "metadata": {},
   "outputs": [],
   "source": [
    "a = \"\"\"Lorem ipsum dolor sit amet,\n",
    "consectetur adipiscing elit,\n",
    "sed do eiusmod tempor incididunt\n",
    "ut labore et dolore magna aliqua.\"\"\"\n",
    "print(a)"
   ]
  },
  {
   "cell_type": "markdown",
   "metadata": {},
   "source": [
    "Strings are an array of individual characters, which can be accessed using square brackets."
   ]
  },
  {
   "cell_type": "code",
   "execution_count": null,
   "metadata": {},
   "outputs": [],
   "source": [
    "a = \"Hello, World!\"\n",
    "print(a[1])"
   ]
  },
  {
   "cell_type": "markdown",
   "metadata": {},
   "source": [
    "boolean:"
   ]
  },
  {
   "cell_type": "code",
   "execution_count": null,
   "metadata": {},
   "outputs": [],
   "source": [
    "boolean1 = True\n",
    "type(boolean1)"
   ]
  },
  {
   "cell_type": "markdown",
   "metadata": {},
   "source": [
    "You can set a variable to a specific data type."
   ]
  },
  {
   "cell_type": "code",
   "execution_count": null,
   "metadata": {},
   "outputs": [],
   "source": [
    "x = str(\"Hello World\")\n",
    "x = int(20)\n",
    "x = float(20.5)"
   ]
  },
  {
   "cell_type": "markdown",
   "metadata": {},
   "source": [
    "Two more important data types are list (lists) and dict (dictionaries).  We're going to cover those more in a bit.\n",
    "\n",
    "You can use python for calculations, which may come up within more complex scripts. For example, adding numbers."
   ]
  },
  {
   "cell_type": "code",
   "execution_count": null,
   "metadata": {},
   "outputs": [],
   "source": [
    "num = 3\n",
    "\n",
    "mean = (num + 10)/2\n",
    "print(mean)"
   ]
  },
  {
   "cell_type": "markdown",
   "metadata": {},
   "source": [
    "You can also use python for concatenating strings."
   ]
  },
  {
   "cell_type": "code",
   "execution_count": null,
   "metadata": {},
   "outputs": [],
   "source": [
    "string2 = \"I am fine, thank you.\"\n",
    "\n",
    "print(string1 + string2)"
   ]
  },
  {
   "cell_type": "markdown",
   "metadata": {},
   "source": [
    "You could also save these to a new variable."
   ]
  },
  {
   "cell_type": "code",
   "execution_count": null,
   "metadata": {},
   "outputs": [],
   "source": [
    "string3 = string1 + string2"
   ]
  },
  {
   "cell_type": "markdown",
   "metadata": {},
   "source": [
    "You can change between data types using these functions.\n",
    "int(), float(), str(), list(), tuple(), set()"
   ]
  },
  {
   "cell_type": "code",
   "execution_count": null,
   "metadata": {},
   "outputs": [],
   "source": [
    "number = '3'\n",
    "type(number)"
   ]
  },
  {
   "cell_type": "code",
   "execution_count": null,
   "metadata": {},
   "outputs": [],
   "source": [
    "int(number)\n",
    "type(number)"
   ]
  },
  {
   "cell_type": "code",
   "execution_count": null,
   "metadata": {},
   "outputs": [],
   "source": [
    "word = 3\n",
    "type(word)\n",
    "word2 = str(word)\n",
    "type(word2)"
   ]
  },
  {
   "cell_type": "markdown",
   "metadata": {},
   "source": [
    "Why do this conversion? Try this example..\n",
    "Start with the text you provide."
   ]
  },
  {
   "cell_type": "code",
   "execution_count": null,
   "metadata": {},
   "outputs": [],
   "source": [
    "word1 = 'I have '\n",
    "word3 = ' apples'"
   ]
  },
  {
   "cell_type": "markdown",
   "metadata": {},
   "source": [
    "then let's use \"word\" from above 3 - as the number data to include."
   ]
  },
  {
   "cell_type": "code",
   "execution_count": null,
   "metadata": {},
   "outputs": [],
   "source": [
    "print(word1 + word + word3)"
   ]
  },
  {
   "cell_type": "markdown",
   "metadata": {},
   "source": [
    "Whoa!\n",
    "What if we use our converted word2?"
   ]
  },
  {
   "cell_type": "code",
   "execution_count": null,
   "metadata": {},
   "outputs": [],
   "source": [
    "print(word1 + word2 + word3)"
   ]
  },
  {
   "cell_type": "markdown",
   "metadata": {},
   "source": [
    "You can also convert between integer and float. You may need specific data types in some applications."
   ]
  },
  {
   "cell_type": "code",
   "execution_count": null,
   "metadata": {},
   "outputs": [],
   "source": [
    "x = 1    # int\n",
    "y = 2.7  # float"
   ]
  },
  {
   "cell_type": "markdown",
   "metadata": {},
   "source": [
    "convert from int to float:"
   ]
  },
  {
   "cell_type": "code",
   "execution_count": null,
   "metadata": {},
   "outputs": [],
   "source": [
    "a = float(x)"
   ]
  },
  {
   "cell_type": "markdown",
   "metadata": {},
   "source": [
    "convert from float to int:"
   ]
  },
  {
   "cell_type": "code",
   "execution_count": null,
   "metadata": {},
   "outputs": [],
   "source": [
    "b = int(y)\n",
    "\n",
    "print(a)\n",
    "print(b)"
   ]
  },
  {
   "cell_type": "markdown",
   "metadata": {},
   "source": [
    "# Lists\n",
    "\n",
    "A list is a data type in Python that allows you to store multiple items in a single variable.\n",
    "\n",
    "A list is created using square brackets:"
   ]
  },
  {
   "cell_type": "code",
   "execution_count": null,
   "metadata": {},
   "outputs": [],
   "source": [
    "empty_list = []\n",
    "desserts_list = ['pie', 'cake', 'ice cream', 'cookies']\n",
    "primes_list = [2, 3, 5, 7, 11]\n",
    "mixed_data_list = [5, 'cake', 4.7, 'cookies']"
   ]
  },
  {
   "cell_type": "markdown",
   "metadata": {},
   "source": [
    "You can use the len() function to count the number of items in a list:"
   ]
  },
  {
   "cell_type": "code",
   "execution_count": null,
   "metadata": {},
   "outputs": [],
   "source": [
    "len(desserts_list)"
   ]
  },
  {
   "cell_type": "markdown",
   "metadata": {},
   "source": [
    "## Adding new items to a list\n",
    "Lists are ordered. They have a defined order that will not change. If you add a new item to a list using the append() function, it will be added to the end of the list:"
   ]
  },
  {
   "cell_type": "code",
   "execution_count": null,
   "metadata": {},
   "outputs": [],
   "source": [
    "desserts_list.append('candy')\n",
    "print(desserts_list)"
   ]
  },
  {
   "cell_type": "markdown",
   "metadata": {},
   "source": [
    "You can make an empty list and fill it up with values using append:"
   ]
  },
  {
   "cell_type": "code",
   "execution_count": null,
   "metadata": {},
   "outputs": [],
   "source": [
    "dogs = []\n",
    "dogs.append('Fido')\n",
    "dogs.append('Buddy')\n",
    "dogs.append('Ralph')\n",
    "print(dogs)"
   ]
  },
  {
   "cell_type": "markdown",
   "metadata": {},
   "source": [
    "You can combine lists using + or the extend() function:"
   ]
  },
  {
   "cell_type": "code",
   "execution_count": null,
   "metadata": {},
   "outputs": [],
   "source": [
    "group_1 = ['Matthew', 'Karla', 'Michele']\n",
    "group_2 = ['David', 'Eddie', 'Annie']\n",
    "combined_group = group_1 + group_2\n",
    "print(combined_group)"
   ]
  },
  {
   "cell_type": "code",
   "execution_count": null,
   "metadata": {},
   "outputs": [],
   "source": [
    "flavors = ['chocolate', 'vanilla', 'mint']\n",
    "more_flavors = ['orange', 'pineapple']\n",
    "flavors.extend(more_flavors)\n",
    "print(flavors)"
   ]
  },
  {
   "cell_type": "markdown",
   "metadata": {},
   "source": [
    "## Indexing a list\n",
    "Lists items are indexed by numbers. **In Python indexing starts with 0.** So the first item in a list has an index value of 0 and the last item in the list has a value of n-1. \n",
    "\n",
    "You can access an item in list using square brackets around the index value:"
   ]
  },
  {
   "cell_type": "code",
   "execution_count": null,
   "metadata": {},
   "outputs": [],
   "source": [
    "beatles = ['John', 'Paul', 'George', 'Ringo']\n",
    "print(beatles[0]) # Print the first item in list."
   ]
  },
  {
   "cell_type": "code",
   "execution_count": null,
   "metadata": {},
   "outputs": [],
   "source": [
    "print(beatles[3]) # Print the last (4th) item in the list."
   ]
  },
  {
   "cell_type": "markdown",
   "metadata": {},
   "source": [
    "Sometimes you want to access the last item in a list but you don't know how many items are in it. In that case, you can use a negative index value:"
   ]
  },
  {
   "cell_type": "code",
   "execution_count": null,
   "metadata": {},
   "outputs": [],
   "source": [
    "print(beatles[-1]) # Print the last item in the list."
   ]
  },
  {
   "cell_type": "code",
   "execution_count": null,
   "metadata": {},
   "outputs": [],
   "source": [
    "print(beatles[-2]) # Print the second to the last item in the list."
   ]
  },
  {
   "cell_type": "markdown",
   "metadata": {},
   "source": [
    "You can also access a range of items in a list using index values. Notice that the range below prints the up to **but NOT including** the upper index value."
   ]
  },
  {
   "cell_type": "code",
   "execution_count": null,
   "metadata": {},
   "outputs": [],
   "source": [
    "print(beatles[1:3]) # Print the second and third items in the list"
   ]
  },
  {
   "cell_type": "markdown",
   "metadata": {},
   "source": [
    "If you leave out the start value, the range will return index values starting at 0 and up to but not including the index value listed:"
   ]
  },
  {
   "cell_type": "code",
   "execution_count": null,
   "metadata": {},
   "outputs": [],
   "source": [
    "print(beatles[:2]) # Print the first two items in the list."
   ]
  },
  {
   "cell_type": "markdown",
   "metadata": {},
   "source": [
    "## Changing values in a list\n",
    "Now that you know how to index a list, you can use this to change items in a list. Let's replace brussel sprouts with candy in the list below:"
   ]
  },
  {
   "cell_type": "code",
   "execution_count": null,
   "metadata": {},
   "outputs": [],
   "source": [
    "desserts = ['cake', 'ice cream', 'brussel sprouts', 'cookies']\n",
    "desserts[2] = 'candy'\n",
    "print(desserts)"
   ]
  },
  {
   "cell_type": "markdown",
   "metadata": {},
   "source": [
    "You can also replace a range of items:"
   ]
  },
  {
   "cell_type": "code",
   "execution_count": null,
   "metadata": {},
   "outputs": [],
   "source": [
    "desserts = ['cake', 'ice cream', 'brussel sprouts', 'asparagus', 'grean beans', 'pie']\n",
    "# Let's swap out all the vegetables for sweets\n",
    "desserts[2:5] = ['lollipops', 'pudding', 'sorbet']\n",
    "print(desserts)"
   ]
  },
  {
   "cell_type": "markdown",
   "metadata": {},
   "source": [
    "Suppose we want to insert butterscotch at the second position in our list, between cake and ice cream. We can use the insert function to do this using an index value of 1 (remember we start counting at zero!). "
   ]
  },
  {
   "cell_type": "code",
   "execution_count": null,
   "metadata": {},
   "outputs": [],
   "source": [
    "desserts = ['cake', 'ice cream', 'lollipops', 'pudding', 'sorbet', 'pie']\n",
    "desserts.insert(1, 'butterscotch')\n",
    "print(desserts)"
   ]
  },
  {
   "cell_type": "markdown",
   "metadata": {},
   "source": [
    "## Removing items from a list\n",
    "The simplest way to remove an item from a list is to provide its value to the remove() function like so:"
   ]
  },
  {
   "cell_type": "code",
   "execution_count": null,
   "metadata": {},
   "outputs": [],
   "source": [
    "desserts = ['cake', 'butterscotch', 'ice cream', 'lollipops', 'pudding', 'sorbet', 'pie']\n",
    "desserts.remove('cake')\n",
    "print(desserts)"
   ]
  },
  {
   "cell_type": "markdown",
   "metadata": {},
   "source": [
    "You can also use the pop() function to remove an item based on its index value:"
   ]
  },
  {
   "cell_type": "code",
   "execution_count": null,
   "metadata": {},
   "outputs": [],
   "source": [
    "desserts = ['cake', 'butterscotch', 'ice cream', 'lollipops', 'pudding', 'sorbet', 'pie']\n",
    "desserts.pop(-2) # Remove sorbet\n",
    "print(desserts)"
   ]
  },
  {
   "cell_type": "markdown",
   "metadata": {},
   "source": [
    "If you don't provide pop() a value, it remove the last item in a list:"
   ]
  },
  {
   "cell_type": "code",
   "execution_count": null,
   "metadata": {},
   "outputs": [],
   "source": [
    "desserts = ['cake', 'butterscotch', 'ice cream', 'lollipops', 'pudding', 'sorbet', 'pie']\n",
    "desserts.pop() # Remove pie\n",
    "print(desserts)"
   ]
  },
  {
   "cell_type": "markdown",
   "metadata": {},
   "source": [
    "Alternatively, you can use the keyword del to remove an item:"
   ]
  },
  {
   "cell_type": "code",
   "execution_count": null,
   "metadata": {},
   "outputs": [],
   "source": [
    "desserts = ['cake', 'butterscotch', 'ice cream', 'lollipops', 'pudding', 'sorbet', 'pie']\n",
    "del desserts[1] # Remove butterscotch\n",
    "print(desserts)"
   ]
  },
  {
   "cell_type": "markdown",
   "metadata": {},
   "source": [
    "## Looping through a list\n",
    "It is very common in Python to want to loop through a list of items and do something to each one. There are a number of ways to do this. The simplest is perhaps using a for loop:"
   ]
  },
  {
   "cell_type": "code",
   "execution_count": null,
   "metadata": {},
   "outputs": [],
   "source": [
    "desserts = ['cake', 'butterscotch', 'ice cream', 'lollipops', 'pudding', 'sorbet', 'pie']\n",
    "for dessert in desserts:\n",
    "    print('I love ' + dessert + '!')"
   ]
  },
  {
   "cell_type": "markdown",
   "metadata": {},
   "source": [
    "Notice in the above example that we use `dessert` as a placeholder variable when looping through the items in the list. Python doesn't understand English grammar so we don't have to use the singular version of desserts. We could use anything we want as a placeholder variable in a for loop. For example we could have written `for x in desserts`. But using `for dessert in desserts` is closer to natural language and is therefore a common convention.\n",
    "\n",
    "Also note that the print statement is indented. When writing a for loop, all the code that does things to the placeholder variable should be indented. This lets Python know that you're still working within the loop.\n",
    "\n",
    "We can also loop through a list using the range() function and the len() function to refer to items by their index number:"
   ]
  },
  {
   "cell_type": "code",
   "execution_count": null,
   "metadata": {},
   "outputs": [],
   "source": [
    "desserts = ['cake', 'butterscotch', 'ice cream', 'lollipops', 'pudding', 'sorbet', 'pie']\n",
    "# Print the first letter of each dessert\n",
    "for i in range(len(desserts)):\n",
    "    print(desserts[i][0])"
   ]
  },
  {
   "cell_type": "markdown",
   "metadata": {},
   "source": [
    "Let's summarize what just happened. We used `i` as a placeholder variable to loop through the range of index values in the list. The len() function finds the total number of items and the range function creates a range from 0 up to but not including the number of items in the list. So with a list of seven items, this will index from index number 0 through the index number 6. In essence, we're looping through every item in the list. Then we print the item by referring to it with the index number `[i]` and access the first letter by indexing the string itself with `[0]`. \n",
    "\n",
    "Another way to loop thorugh the items is using a **list comprehension**, sometimes referred to as Pythonic loop. It looks like this:"
   ]
  },
  {
   "cell_type": "code",
   "execution_count": null,
   "metadata": {},
   "outputs": [],
   "source": [
    "desserts = ['cake', 'butterscotch', 'ice cream', 'lollipops', 'pudding', 'sorbet', 'pie']\n",
    "# Make a list of the number of characters in each dessert\n",
    "dessert_lengths = [len(x) for x in desserts]\n",
    "print(dessert_lengths)"
   ]
  },
  {
   "cell_type": "markdown",
   "metadata": {},
   "source": [
    "This time we used `x` as a placeholder variable. We created a new list `dessert_lengths` to store the data. We filled it up by iterating over each dessert `x` and capturing its length using the len() function. List comprehensions are a compact syntax for doing something to each item in a list. "
   ]
  },
  {
   "cell_type": "markdown",
   "metadata": {},
   "source": [
    "## Lists and Conditional Statements\n",
    "It's very common in Python to apply conditional statements to items in a loop. Let's start with an example in which we print out one statement if the dessert is more than six characters and a different statement if it is less than six characters:"
   ]
  },
  {
   "cell_type": "code",
   "execution_count": null,
   "metadata": {},
   "outputs": [],
   "source": [
    "desserts = ['cake', 'butterscotch', 'ice cream', 'lollipops', 'pudding', 'sorbet', 'pie']\n",
    "for dessert in desserts:\n",
    "    if len(dessert) > 6:\n",
    "        print('Yum, I love ' + dessert + '!')\n",
    "    else:\n",
    "        print('Yuck, I do not like ' + dessert + '.')"
   ]
  },
  {
   "cell_type": "markdown",
   "metadata": {},
   "source": [
    "Notice the indentation in the above example. The if/else block is indented within the for loop. Also, the print statements are indented from within the if/else block. For each dessert in the list, the code checks if the length is greater than 6. If it is, the first print statement gets executed. If not, the second print statement gets executed. This is a simple example of what is called **flow control**. \n",
    "\n",
    "Sometimes you want to skip over items that do not meet a condition. You can use the keyword `pass` to do this. Let's repeat the last example except this time we will not print anything if the item is less than six characters:"
   ]
  },
  {
   "cell_type": "code",
   "execution_count": null,
   "metadata": {},
   "outputs": [],
   "source": [
    "desserts = ['cake', 'butterscotch', 'ice cream', 'lollipops', 'pudding', 'sorbet', 'pie']\n",
    "for dessert in desserts:\n",
    "    if len(dessert) > 6:\n",
    "        print('Yum, I love ' + dessert + '!')\n",
    "    else:\n",
    "        pass"
   ]
  },
  {
   "cell_type": "markdown",
   "metadata": {},
   "source": [
    "In addition to `if` and `else`, there is also `elif` which is short for \"else if\". You use it to evaluate conditions after an initial `if` statement but before a final `else` statement. For example:"
   ]
  },
  {
   "cell_type": "code",
   "execution_count": null,
   "metadata": {},
   "outputs": [],
   "source": [
    "desserts = ['cake', 'butterscotch', 'ice cream', 'lollipops', 'pudding', 'sorbet', 'pie']\n",
    "for dessert in desserts:\n",
    "    if len(dessert) > 6:\n",
    "        print('Yum, I love ' + dessert + '!')\n",
    "    elif len(dessert) > 4:\n",
    "        print('Nice, I sort of like ' + dessert + '.')\n",
    "    else:\n",
    "        pass"
   ]
  },
  {
   "cell_type": "markdown",
   "metadata": {},
   "source": [
    "Notice that sorbet is the only dessert to which the print statement in the `elif` block was applied. That's because it's not greater than 6 but it is greater than 4 so it caused the second print statement to execute.\n",
    "\n",
    "You can also use conditional statements on list comprehensions:"
   ]
  },
  {
   "cell_type": "code",
   "execution_count": null,
   "metadata": {},
   "outputs": [],
   "source": [
    "desserts = ['cake', 'butterscotch', 'ice cream', 'lollipops', 'pudding', 'sorbet', 'pie']\n",
    "yummy_desserts = [x for x in desserts if len(x) > 6]\n",
    "for dessert in yummy_desserts:\n",
    "    print('Yum, I love ' + dessert + '!')"
   ]
  },
  {
   "cell_type": "markdown",
   "metadata": {},
   "source": [
    "## Sorting Lists\n",
    "Lists have access to a **method** called `sort()` that will arrange them alphanumerically in ascending order:"
   ]
  },
  {
   "cell_type": "code",
   "execution_count": null,
   "metadata": {},
   "outputs": [],
   "source": [
    "desserts = ['cake', 'butterscotch', 'ice cream', 'lollipops', 'pudding', 'sorbet', 'pie']\n",
    "desserts.sort()\n",
    "print(desserts)"
   ]
  },
  {
   "cell_type": "markdown",
   "metadata": {},
   "source": [
    "You can pass an additional argument to the `sort()` method to sort in descending order:"
   ]
  },
  {
   "cell_type": "code",
   "execution_count": null,
   "metadata": {},
   "outputs": [],
   "source": [
    "desserts = ['cake', 'butterscotch', 'ice cream', 'lollipops', 'pudding', 'sorbet', 'pie']\n",
    "desserts.sort(reverse=True)\n",
    "print(desserts)"
   ]
  },
  {
   "cell_type": "markdown",
   "metadata": {},
   "source": [
    "The `sort()` method is handy but it sorts capitalized strings before lowercase ones. We can supply another argument to the `sort()` method to perform case-insensitive sorting:"
   ]
  },
  {
   "cell_type": "code",
   "execution_count": null,
   "metadata": {},
   "outputs": [],
   "source": [
    "desserts = ['cake', 'butterscotch', 'Ice cream', 'lollipops', 'Pudding', 'sorbet', 'pie']\n",
    "desserts.sort(key=str.lower)\n",
    "print(desserts)"
   ]
  },
  {
   "cell_type": "markdown",
   "metadata": {},
   "source": [
    "Another way to sort a list is with the `sorted()` function. While the `sort()` method works on the items in a list, `sorted()` returns a new list. You can read about the difference here: https://discuss.codecademy.com/t/what-is-the-difference-between-sort-and-sorted/349679 and here: https://realpython.com/python-sort/"
   ]
  },
  {
   "cell_type": "code",
   "execution_count": null,
   "metadata": {},
   "outputs": [],
   "source": [
    "desserts = ['cake', 'butterscotch', 'ice cream', 'lollipops', 'pudding', 'sorbet', 'pie']\n",
    "desserts = sorted(desserts)\n",
    "print(desserts)"
   ]
  },
  {
   "cell_type": "markdown",
   "metadata": {},
   "source": [
    "## Strings to Lists to Strings\n",
    "Sometimes you encounter data separated by a character like `|` and you want to turn it into a list. You can accomplish this with the `split()` method:"
   ]
  },
  {
   "cell_type": "code",
   "execution_count": null,
   "metadata": {},
   "outputs": [],
   "source": [
    "data_string = \"Value1|Value2|Value3\"\n",
    "data_list = data_string.split(\"|\")\n",
    "print(data_list)"
   ]
  },
  {
   "cell_type": "markdown",
   "metadata": {},
   "source": [
    "To concatenate a list of strings with a character, you can use the `join()` method:"
   ]
  },
  {
   "cell_type": "code",
   "execution_count": null,
   "metadata": {},
   "outputs": [],
   "source": [
    "data_list = ['Value1', 'Value2', 'Value3']\n",
    "print('|'.join(data_list))"
   ]
  },
  {
   "cell_type": "markdown",
   "metadata": {},
   "source": [
    "Remember that you cannot concatenate strings and numbers:"
   ]
  },
  {
   "cell_type": "code",
   "execution_count": null,
   "metadata": {},
   "outputs": [],
   "source": [
    "data_list = ['Value1', 5, \"Banana\"]\n",
    "print(','.join(data_list))"
   ]
  },
  {
   "cell_type": "code",
   "execution_count": null,
   "metadata": {},
   "outputs": [],
   "source": [
    "# Let's try that again by first converting all values to strings\n",
    "data_list = ['Value1', 5, \"Banana\"]\n",
    "data_list = [str(x) for x in data_list]\n",
    "print(','.join(data_list))"
   ]
  },
  {
   "cell_type": "markdown",
   "metadata": {},
   "source": [
    "# Dictionaries\n",
    "A dictionary is used to store data in `key:value` pairs. It uses curly brackets `{}` to enclose the data:"
   ]
  },
  {
   "cell_type": "code",
   "execution_count": 2,
   "metadata": {},
   "outputs": [
    {
     "name": "stdout",
     "output_type": "stream",
     "text": [
      "{'name': 'Amos', 'breed': 'Siamese', 'age': 6}\n"
     ]
    }
   ],
   "source": [
    "cat_dict = {\n",
    "    \"name\": \"Amos\",\n",
    "    \"breed\": \"Siamese\", \n",
    "    \"age\": 6\n",
    "}\n",
    "print(cat_dict)"
   ]
  },
  {
   "cell_type": "markdown",
   "metadata": {},
   "source": [
    "You can access a value in a dictionary using the key:"
   ]
  },
  {
   "cell_type": "code",
   "execution_count": null,
   "metadata": {},
   "outputs": [],
   "source": [
    "# Print the name of the cat in cat_dict\n",
    "print(cat_dict[\"name\"])"
   ]
  },
  {
   "cell_type": "markdown",
   "metadata": {},
   "source": [
    "Dictionaries have a `get()` method that can also return the value of a key:"
   ]
  },
  {
   "cell_type": "code",
   "execution_count": null,
   "metadata": {},
   "outputs": [],
   "source": [
    "# Print the age of the cat in cat_dict\n",
    "print(cat_dict.get(\"age\"))"
   ]
  },
  {
   "cell_type": "markdown",
   "metadata": {},
   "source": [
    "You can also access the keys in a dictionary as a list:"
   ]
  },
  {
   "cell_type": "code",
   "execution_count": null,
   "metadata": {},
   "outputs": [],
   "source": [
    "print(cat_dict.keys())"
   ]
  },
  {
   "cell_type": "code",
   "execution_count": null,
   "metadata": {},
   "outputs": [],
   "source": [
    "# Print each key in the dictionary on a separate line:\n",
    "for key in cat_dict.keys():\n",
    "    print(key)"
   ]
  },
  {
   "cell_type": "markdown",
   "metadata": {},
   "source": [
    "You can access the values in a dictionary as a list:"
   ]
  },
  {
   "cell_type": "code",
   "execution_count": null,
   "metadata": {},
   "outputs": [],
   "source": [
    "for value in cat_dict.values():\n",
    "    print(value)"
   ]
  },
  {
   "cell_type": "markdown",
   "metadata": {},
   "source": [
    "## Changing, Adding and Removing Data\n",
    "You can update a value by referencing its key:"
   ]
  },
  {
   "cell_type": "code",
   "execution_count": null,
   "metadata": {},
   "outputs": [],
   "source": [
    "cat_dict['age'] = 9\n",
    "print(cat_dict)"
   ]
  },
  {
   "cell_type": "markdown",
   "metadata": {},
   "source": [
    "Alternatively, you can use the `update()` method to change the data. Note that you must enclose the key:value pair in curly brackets."
   ]
  },
  {
   "cell_type": "code",
   "execution_count": null,
   "metadata": {},
   "outputs": [],
   "source": [
    "cat_dict.update({\"age\": 12})\n",
    "print(cat_dict)"
   ]
  },
  {
   "cell_type": "markdown",
   "metadata": {},
   "source": [
    "You can add a new key value pair to the dictionary as follows:"
   ]
  },
  {
   "cell_type": "code",
   "execution_count": null,
   "metadata": {},
   "outputs": [],
   "source": [
    "cat_dict[\"favorite_snack\"] = \"catnip\"\n",
    "print(cat_dict)"
   ]
  },
  {
   "cell_type": "code",
   "execution_count": 3,
   "metadata": {},
   "outputs": [
    {
     "name": "stdout",
     "output_type": "stream",
     "text": [
      "{'name': 'Amos', 'breed': 'Siamese', 'age': 6, 'reproductive_status': 'neutered'}\n"
     ]
    }
   ],
   "source": [
    "# Or use the update method:\n",
    "cat_dict.update({'reproductive_status': \"neutered\"})\n",
    "print(cat_dict)"
   ]
  },
  {
   "cell_type": "markdown",
   "metadata": {},
   "source": [
    "Delete items from a dictionary using the `pop()` method:"
   ]
  },
  {
   "cell_type": "code",
   "execution_count": null,
   "metadata": {},
   "outputs": [],
   "source": [
    "cat_dict.pop(\"favorite_snack\")\n",
    "print(cat_dict)"
   ]
  },
  {
   "cell_type": "markdown",
   "metadata": {},
   "source": [
    "You can also create an empty dictionary and fill it up with values:"
   ]
  },
  {
   "cell_type": "code",
   "execution_count": null,
   "metadata": {},
   "outputs": [],
   "source": [
    "temperatures = {}\n",
    "temperatures['Jordan'] = 98.6\n",
    "temperatures['Maria'] = 98.2\n",
    "temperatures['Alyson'] = 99.1\n",
    "print(temperatures)"
   ]
  },
  {
   "cell_type": "markdown",
   "metadata": {},
   "source": [
    "## More complex data structures\n",
    "So far we have only used strings and integers in our dictionary. But the values of a dictionary can be anything including lists and even other dictionaries. "
   ]
  },
  {
   "cell_type": "code",
   "execution_count": null,
   "metadata": {},
   "outputs": [],
   "source": [
    "favorite_foods = {}\n",
    "favorite_foods[\"Laura\"] = ['spaghetti', 'french toast', 'tacos']\n",
    "favorite_foods[\"Paul\"] = ['kiwi', 'bagels', 'hamburgers', 'eggs']\n",
    "print(favorite_foods)"
   ]
  },
  {
   "cell_type": "markdown",
   "metadata": {},
   "source": [
    "Above we defined a variable as an empty dictionary and then populated it with data. For each key:value pair, the key is a name and the value is a list of foods. We can access items in that list of foods with an index:"
   ]
  },
  {
   "cell_type": "code",
   "execution_count": null,
   "metadata": {},
   "outputs": [],
   "source": [
    "# Print the last favorite food listed for Laura:\n",
    "print(favorite_foods['Laura'][-1])"
   ]
  },
  {
   "cell_type": "markdown",
   "metadata": {},
   "source": [
    "Once data is stored in a dictionary, you can retrieve it and format it as a string of data:"
   ]
  },
  {
   "cell_type": "code",
   "execution_count": null,
   "metadata": {},
   "outputs": [],
   "source": [
    "for person in favorite_foods.keys():\n",
    "    print(person + \": \" + ', '.join(favorite_foods[person]))"
   ]
  },
  {
   "cell_type": "markdown",
   "metadata": {},
   "source": [
    "Nested dictionaries are a great way to store information about a series of objects. When we made the `cat_dict` earlier, it contained key:value pairs of data about a single cat. But we could create a nested dictionary to store the same information about multiple cats:"
   ]
  },
  {
   "cell_type": "code",
   "execution_count": null,
   "metadata": {},
   "outputs": [],
   "source": [
    "cats = {\n",
    "    \"cat1\": {\n",
    "        \"name\": \"Gus\",\n",
    "        \"breed\": \"Sphynx\",\n",
    "        \"age\": 2\n",
    "    },\n",
    "    \"cat2\": {\n",
    "        \"name\": \"Raven\",\n",
    "        \"breed\":  \"Devon Rex\",\n",
    "        \"age\":  7\n",
    "    },\n",
    "    \"cat3\": {\n",
    "        \"name\": \"Tamara\",\n",
    "        \"breed\": \"Persian\",\n",
    "        \"age\": 11\n",
    "    }\n",
    "}\n",
    "print(cats)"
   ]
  },
  {
   "cell_type": "markdown",
   "metadata": {},
   "source": [
    "We can iterate over the cats and print their names:"
   ]
  },
  {
   "cell_type": "code",
   "execution_count": null,
   "metadata": {},
   "outputs": [],
   "source": [
    "for cat in cats.keys():\n",
    "    print(cats[cat][\"name\"])"
   ]
  },
  {
   "cell_type": "code",
   "execution_count": null,
   "metadata": {},
   "outputs": [],
   "source": [
    "Or we could use the same approach to printing a statement about them:"
   ]
  },
  {
   "cell_type": "code",
   "execution_count": null,
   "metadata": {},
   "outputs": [],
   "source": [
    "for cat in cats.keys():\n",
    "    print(cats[cat][\"name\"] + ' is a ' + str(cats[cat][\"age\"]) + \"-year-old \" + cats[cat][\"breed\"] + \" cat.\")"
   ]
  },
  {
   "cell_type": "markdown",
   "metadata": {},
   "source": [
    "# Sample Script Revisited\n",
    "Congratulations for making it through the workshop notebook! Let's revisit the script and see if it makes more sense now. \n",
    "\n",
    "The first lines of the script import and use Python code libraries `pandas` and `numpy` to harvest the data and transform it into a table of string data. We then use a `pandas` method called `iterrows()` to loop over each row in the data and manipulate it. \n",
    "\n",
    "For each row of data, we're only interested in the Artist's Display Name and Tags columns. So we create a variable for each and access the data. Notice that each row is a dictionary and you access the value of the cell by using the column name: `row['Artist Display Name']`. Since the data has multiple values separated by pipes, we convert `artists` and `tags` into lists using the `split()` method. \n",
    "\n",
    "Next we loop through each artist in the list. We fill up an empty dictionary by adding the artist name as the key and the list of tags as the value. We need an if/else statement to accomplish this. The first time the artist comes up in the data, we want to use the tags in that row as the value but if the artist is already in the dictionary, we want to add more tags to the list using `extend()`. \n",
    "\n",
    "Finally, we can iterate over the keys in our artist dictionary and print out the report line by line. The original dataset had many objects without an artist and so our dictionary has a key value of an empty string with several tags as values. We use the line `if artist != '':` to ignore this special case. Then we use a list iteration to eliminate empty strings in the list of tags. Next we use `set()` to obtain a unique list of tags and wrap it with `list()` to convert it back to a proper list. We then sort the list of tags alphabetically and then, if there's at least one tag listed for the artist, we print out the line of the report by concatenating the artists name and the tags."
   ]
  },
  {
   "cell_type": "code",
   "execution_count": null,
   "metadata": {},
   "outputs": [],
   "source": [
    "'''\n",
    "Generate an alphabatized report of artists names and the alphabatized tags associated with their works.\n",
    "For example, an artist with three tags should be formatted as follows:\n",
    "ARTIST: TAG1, TAG2, TAG3\n",
    "If an artist has no tags associated with their works, omit them from the report.\n",
    "'''\n",
    "\n",
    "import pandas as pd\n",
    "import numpy as np\n",
    "\n",
    "url = 'https://raw.githubusercontent.com/ecds/intro-to-python/main/MetObjects1000.csv'\n",
    "\n",
    "data = pd.read_csv(url)\n",
    "data = data.replace(np.nan, '', regex=True)\n",
    "data = data.astype(str)\n",
    "\n",
    "artist_dict = {}\n",
    "for index, row in data.iterrows():\n",
    "    artists = row['Artist Display Name']\n",
    "    tags = row['Tags']\n",
    "\n",
    "    artists = artists.split('|')\n",
    "    tags = tags.split('|')\n",
    "\n",
    "    for artist in artists:\n",
    "        if artist not in artist_dict.keys():\n",
    "            artist_dict[artist] = tags\n",
    "        else:\n",
    "            artist_dict[artist].extend(tags)\n",
    "\n",
    "for artist in sorted(artist_dict.keys()):\n",
    "    if artist != '':\n",
    "        tags = [x for x in artist_dict[artist] if x != '']\n",
    "        tags = list(set(tags))\n",
    "        tags.sort()\n",
    "        if len(tags) > 0:\n",
    "            print(artist + ': ' + ', '.join(tags))"
   ]
  }
 ],
 "metadata": {
  "kernelspec": {
   "display_name": "Python 3",
   "language": "python",
   "name": "python3"
  },
  "language_info": {
   "codemirror_mode": {
    "name": "ipython",
    "version": 3
   },
   "file_extension": ".py",
   "mimetype": "text/x-python",
   "name": "python",
   "nbconvert_exporter": "python",
   "pygments_lexer": "ipython3",
   "version": "3.7.4"
  }
 },
 "nbformat": 4,
 "nbformat_minor": 2
}
