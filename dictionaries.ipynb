{
 "cells": [
  {
   "cell_type": "markdown",
   "metadata": {},
   "source": [
    "# Dictionaries\n",
    "A dictionary is used to store data in `key:value` pairs. It uses curly brackets `{}` to enclose the data:"
   ]
  },
  {
   "cell_type": "code",
   "execution_count": null,
   "metadata": {},
   "outputs": [],
   "source": [
    "cat_dict = {\n",
    "    \"name\": \"Amos\",\n",
    "    \"breed\": \"Siamese\", \n",
    "    \"age\": 6\n",
    "}\n",
    "print(cat_dict)"
   ]
  },
  {
   "cell_type": "markdown",
   "metadata": {},
   "source": [
    "You can access a value in a dictionary using the key:"
   ]
  },
  {
   "cell_type": "code",
   "execution_count": null,
   "metadata": {},
   "outputs": [],
   "source": [
    "# Print the name of the cat in cat_dict\n",
    "print(cat_dict[\"name\"])"
   ]
  },
  {
   "cell_type": "markdown",
   "metadata": {},
   "source": [
    "Dictionaries have a `get()` method that can also return the value of a key:"
   ]
  },
  {
   "cell_type": "code",
   "execution_count": null,
   "metadata": {},
   "outputs": [],
   "source": [
    "# Print the age of the cat in cat_dict\n",
    "print(cat_dict.get(\"age\"))"
   ]
  },
  {
   "cell_type": "markdown",
   "metadata": {},
   "source": [
    "You can also access the keys in a dictionary as a list:"
   ]
  },
  {
   "cell_type": "code",
   "execution_count": null,
   "metadata": {},
   "outputs": [],
   "source": [
    "print(cat_dict.keys())"
   ]
  },
  {
   "cell_type": "code",
   "execution_count": null,
   "metadata": {},
   "outputs": [],
   "source": [
    "# Print each key in the dictionary on a separate line:\n",
    "for key in cat_dict.keys():\n",
    "    print(key)"
   ]
  },
  {
   "cell_type": "markdown",
   "metadata": {},
   "source": [
    "You can access the values in a dictionary as a list:"
   ]
  },
  {
   "cell_type": "code",
   "execution_count": null,
   "metadata": {},
   "outputs": [],
   "source": [
    "for value in cat_dict.values():\n",
    "    print(value)"
   ]
  },
  {
   "cell_type": "markdown",
   "metadata": {},
   "source": [
    "## Changing, Adding and Removing Data\n",
    "You can update a value by referencing its key:"
   ]
  },
  {
   "cell_type": "code",
   "execution_count": null,
   "metadata": {},
   "outputs": [],
   "source": [
    "cat_dict['age'] = 9\n",
    "print(cat_dict)"
   ]
  },
  {
   "cell_type": "markdown",
   "metadata": {},
   "source": [
    "Alternatively, you can use the `update()` method to change the data. Note that you must enclose the key:value pair in curly brackets."
   ]
  },
  {
   "cell_type": "code",
   "execution_count": null,
   "metadata": {},
   "outputs": [],
   "source": [
    "cat_dict.update({\"age\": 12})\n",
    "print(cat_dict)"
   ]
  },
  {
   "cell_type": "markdown",
   "metadata": {},
   "source": [
    "You can add a new key value pair to the dictionary as follows:"
   ]
  },
  {
   "cell_type": "code",
   "execution_count": null,
   "metadata": {},
   "outputs": [],
   "source": [
    "cat_dict[\"favorite_snack\"] = \"catnip\"\n",
    "print(cat_dict)"
   ]
  },
  {
   "cell_type": "code",
   "execution_count": null,
   "metadata": {},
   "outputs": [],
   "source": [
    "# Or use the update method:\n",
    "cat_dict['reproductive_status'] = \"neutered\"\n",
    "print(cat_dict)"
   ]
  },
  {
   "cell_type": "markdown",
   "metadata": {},
   "source": [
    "Delete items from a dictionary using the `pop()` method:"
   ]
  },
  {
   "cell_type": "code",
   "execution_count": null,
   "metadata": {},
   "outputs": [],
   "source": [
    "cat_dict.pop(\"favorite_snack\")\n",
    "print(cat_dict)"
   ]
  },
  {
   "cell_type": "markdown",
   "metadata": {},
   "source": [
    "## More complex data structures\n",
    "So far we have only used strings and integers in our dictionary. But the values of a dictionary can be anything including lists and even other dictionaries. "
   ]
  },
  {
   "cell_type": "code",
   "execution_count": null,
   "metadata": {},
   "outputs": [],
   "source": [
    "favorite_foods = {}\n",
    "favorite_foods[\"Alyson\"] = ['spaghetti', 'french toast', 'tacos']\n",
    "favorite_foods[\"Paul\"] = ['kiwi', 'bagels', 'hamburgers', 'eggs']\n",
    "print(favorite_foods)"
   ]
  },
  {
   "cell_type": "markdown",
   "metadata": {},
   "source": [
    "Above we defined a variable as an empty dictionary and then populated it with data. For each key:value pair, the key is a name and the value is a list of foods. We can access items in that list of foods with an index:"
   ]
  },
  {
   "cell_type": "code",
   "execution_count": null,
   "metadata": {},
   "outputs": [],
   "source": [
    "# Print the last favorite food listed for Alyson:\n",
    "print(favorite_foods['Alyson'][-1])"
   ]
  },
  {
   "cell_type": "markdown",
   "metadata": {},
   "source": [
    "Once data is stored in a dictionary, you can retrieve it and format it as a string of data:"
   ]
  },
  {
   "cell_type": "code",
   "execution_count": null,
   "metadata": {},
   "outputs": [],
   "source": [
    "for person in favorite_foods.keys():\n",
    "    print(person + \": \" + ', '.join(favorite_foods[person]))"
   ]
  },
  {
   "cell_type": "markdown",
   "metadata": {},
   "source": [
    "Nested dictionaries are a great way to store information about a series of objects. When we made the `cat_dict` earlier, it contained key:value pairs of data about a single cat. But we could create a nested dictionary to store the same information about multiple cats:"
   ]
  },
  {
   "cell_type": "code",
   "execution_count": null,
   "metadata": {},
   "outputs": [],
   "source": [
    "cats = {\n",
    "    \"cat1\": {\n",
    "        \"name\": \"Gus\",\n",
    "        \"breed\": \"Sphynx\",\n",
    "        \"age\": 2\n",
    "    },\n",
    "    \"cat2\": {\n",
    "        \"name\": \"Raven\",\n",
    "        \"breed\":  \"Devon Rex\",\n",
    "        \"age\":  7\n",
    "    },\n",
    "    \"cat3\": {\n",
    "        \"name\": \"Tamara\",\n",
    "        \"breed\": \"Persian\",\n",
    "        \"age\": 11\n",
    "    }\n",
    "}\n",
    "print(cats)"
   ]
  },
  {
   "cell_type": "markdown",
   "metadata": {},
   "source": [
    "We can iterate over the cats and print their names:"
   ]
  },
  {
   "cell_type": "code",
   "execution_count": null,
   "metadata": {},
   "outputs": [],
   "source": [
    "for cat in cats.keys():\n",
    "    print(cats[cat][\"name\"])"
   ]
  },
  {
   "cell_type": "code",
   "execution_count": null,
   "metadata": {},
   "outputs": [],
   "source": [
    "Or we could use the same approach to printing a statement about them:"
   ]
  },
  {
   "cell_type": "code",
   "execution_count": null,
   "metadata": {},
   "outputs": [],
   "source": [
    "for cat in cats.keys():\n",
    "    print(cats[cat][\"name\"] + ' is a ' + str(cats[cat][\"age\"]) + \"-year-old \" + cats[cat][\"breed\"] + \" cat.\")"
   ]
  },
  {
   "cell_type": "code",
   "execution_count": null,
   "metadata": {},
   "outputs": [],
   "source": []
  }
 ],
 "metadata": {
  "kernelspec": {
   "display_name": "Python 3",
   "language": "python",
   "name": "python3"
  },
  "language_info": {
   "codemirror_mode": {
    "name": "ipython",
    "version": 3
   },
   "file_extension": ".py",
   "mimetype": "text/x-python",
   "name": "python",
   "nbconvert_exporter": "python",
   "pygments_lexer": "ipython3",
   "version": "3.7.4"
  }
 },
 "nbformat": 4,
 "nbformat_minor": 2
}
